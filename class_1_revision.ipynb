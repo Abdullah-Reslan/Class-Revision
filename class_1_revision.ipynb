{
  "nbformat": 4,
  "nbformat_minor": 0,
  "metadata": {
    "colab": {
      "provenance": []
    },
    "kernelspec": {
      "name": "python3",
      "display_name": "Python 3"
    },
    "language_info": {
      "name": "python"
    }
  },
  "cells": [
    {
      "cell_type": "code",
      "source": [
        "# Break Statment\n",
        "num = 0\n",
        "for num in range(10):\n",
        "  num = num+1\n",
        "  if num == 8:\n",
        "    break\n",
        "  print(\"Num has value\" + str(num))\n",
        "print(\"Encounterd break !! out of loop \")"
      ],
      "metadata": {
        "colab": {
          "base_uri": "https://localhost:8080/"
        },
        "id": "2cJReE4Mku6J",
        "outputId": "4405372f-0b47-475c-d740-d938819c2443"
      },
      "execution_count": null,
      "outputs": [
        {
          "output_type": "stream",
          "name": "stdout",
          "text": [
            "Num has value1\n",
            "Num has value2\n",
            "Num has value3\n",
            "Num has value4\n",
            "Num has value5\n",
            "Num has value6\n",
            "Num has value7\n",
            "Encounterd break !! out of loop \n"
          ]
        }
      ]
    },
    {
      "cell_type": "code",
      "source": [
        "num = 0\n",
        "for num in range(9):\n",
        "  num = num+1\n",
        "  print(num)"
      ],
      "metadata": {
        "colab": {
          "base_uri": "https://localhost:8080/"
        },
        "id": "R-Nb8t6al1gp",
        "outputId": "cf625c5a-fe43-4cf8-e1e1-f3fde265b2ef"
      },
      "execution_count": null,
      "outputs": [
        {
          "output_type": "stream",
          "name": "stdout",
          "text": [
            "1\n",
            "2\n",
            "3\n",
            "4\n",
            "5\n",
            "6\n",
            "7\n",
            "8\n",
            "9\n"
          ]
        }
      ]
    },
    {
      "cell_type": "code",
      "source": [
        "entry = 0\n",
        "sum1 = 0\n",
        "print(\"Enter the number to find their sum ,  if negative ends the loop\")\n",
        "\n",
        "while True :\n",
        "  entry=int(input())\n",
        "  if entry<0:\n",
        "    break\n",
        "  sum1+= entry\n",
        " print(\"Sum = \" , sum1)"
      ],
      "metadata": {
        "colab": {
          "base_uri": "https://localhost:8080/"
        },
        "id": "i1BPwQS0mRII",
        "outputId": "bfbed929-b011-4e5b-877b-616887cd0a89"
      },
      "execution_count": null,
      "outputs": [
        {
          "output_type": "stream",
          "name": "stdout",
          "text": [
            "Enter the number to find their sum ,  if negative ends the loop\n",
            "1\n",
            "1\n",
            "1\n",
            "2\n",
            "3\n",
            "4\n",
            "2\n",
            "-1\n",
            "Sum =  14\n"
          ]
        }
      ]
    },
    {
      "cell_type": "code",
      "source": [
        "# prints the values from 0 to 6 exepts 3:\n",
        "\n",
        "for i in range(0,7):\n",
        "  if i == 3:\n",
        "    continue\n",
        "  print(i)"
      ],
      "metadata": {
        "colab": {
          "base_uri": "https://localhost:8080/"
        },
        "id": "Nsu9zBifoLz6",
        "outputId": "e9c17839-a47a-45c8-eaf9-0f540ea82881"
      },
      "execution_count": null,
      "outputs": [
        {
          "output_type": "stream",
          "name": "stdout",
          "text": [
            "0\n",
            "1\n",
            "2\n",
            "4\n",
            "5\n",
            "6\n"
          ]
        }
      ]
    },
    {
      "cell_type": "code",
      "source": [
        "num = 0\n",
        "for  num in range(6):\n",
        "  num=num+1\n",
        "  if num==3:\n",
        "    continue\n",
        "  print(\"Num has the value \" + str(num))\n",
        "print(\"End the loop\")\n"
      ],
      "metadata": {
        "colab": {
          "base_uri": "https://localhost:8080/"
        },
        "id": "m-k6APmxpPeh",
        "outputId": "dcd45e52-80a9-4caf-b7ce-8cbb37e055ec"
      },
      "execution_count": null,
      "outputs": [
        {
          "output_type": "stream",
          "name": "stdout",
          "text": [
            "Num has the value 1\n",
            "Num has the value 2\n",
            "Num has the value 4\n",
            "Num has the value 5\n",
            "Num has the value 6\n",
            "End the loop\n"
          ]
        }
      ]
    },
    {
      "cell_type": "code",
      "source": [
        "# Nested loops\n",
        "num = int(input(\"Enter a number to generate its pattern: \"))\n",
        "for i in range(1, num+1):\n",
        "  for j in range(1,i+1):\n",
        "    print(j, end=\" \")\n",
        "  print()\n"
      ],
      "metadata": {
        "colab": {
          "base_uri": "https://localhost:8080/"
        },
        "id": "N4NVKYr6qMYA",
        "outputId": "bb4c49c0-ef16-4df8-f495-7aad05b7f238"
      },
      "execution_count": null,
      "outputs": [
        {
          "output_type": "stream",
          "name": "stdout",
          "text": [
            "Enter a number to generate its pattern: 10\n",
            "1 \n",
            "1 2 \n",
            "1 2 3 \n",
            "1 2 3 4 \n",
            "1 2 3 4 5 \n",
            "1 2 3 4 5 6 \n",
            "1 2 3 4 5 6 7 \n",
            "1 2 3 4 5 6 7 8 \n",
            "1 2 3 4 5 6 7 8 9 \n",
            "1 2 3 4 5 6 7 8 9 10 \n"
          ]
        }
      ]
    },
    {
      "cell_type": "code",
      "source": [
        "# functions\n",
        "print(\"Enter the value for the cylindrical part of the tent in meters\")\n",
        "h = float(input(\"Enter the height of the Cylindrical Part \"))\n",
        "r = float(input(\"Enter the radius: \"))\n",
        "l = float(input(\"enter the slant height: \"))\n",
        "\n",
        "csa_conical = 3.14*r*l\n",
        "csa_cylinder = 2*3.14*r*h\n",
        "canvas_area = csa_conical + csa_cylinder\n",
        "print(\"The area of the canvas is \", canvas_area, \"m^2\")\n",
        "unit_price = float(input(\"Enter the cost of 1 m^2 canvas\"))\n",
        "total_cost = unit_price*canvas_area\n",
        "print(\"the total Cost is \",total_cost)\n",
        "#tax\n",
        "tax = 0.18*total_cost\n",
        "net_price = total_cost+tax\n",
        "print(\"Net price \",net_price)"
      ],
      "metadata": {
        "colab": {
          "base_uri": "https://localhost:8080/"
        },
        "id": "S1b15G5xsHih",
        "outputId": "f3cc9624-6eb1-41b7-ed15-a84f9b0477bc"
      },
      "execution_count": null,
      "outputs": [
        {
          "output_type": "stream",
          "name": "stdout",
          "text": [
            "Enter the value for the cylindrical part of the tent in meters\n",
            "Enter the height of the Cylindrical Part 3\n",
            "Enter the radius: 5\n",
            "enter the slant height: 4\n",
            "The area of the canvas is  157.0 m^2\n",
            "Enter the cost of 1 m^2 canvas25\n",
            "the total Cost is  3925.0\n",
            "Net price  4631.5\n"
          ]
        }
      ]
    },
    {
      "cell_type": "code",
      "source": [
        "print(\"Bism allah alrahman alrahim \")"
      ],
      "metadata": {
        "id": "qrPnTV-I0LVp",
        "colab": {
          "base_uri": "https://localhost:8080/"
        },
        "outputId": "dd8a1fdb-c9f3-4f24-d68e-aabffdda2147"
      },
      "execution_count": null,
      "outputs": [
        {
          "output_type": "stream",
          "name": "stdout",
          "text": [
            "Bism allah alrahman alrahim \n"
          ]
        }
      ]
    },
    {
      "cell_type": "code",
      "source": [
        "\n",
        "def cyl(h,r):\n",
        "  area_cyl = 2*3.14*r*h\n",
        "  return(area_cyl)\n",
        "\n",
        "def con(l,r):\n",
        "  area_con = 3.14*r*l\n",
        "  return(area_con)\n",
        "\n",
        "\n",
        "\n",
        "def net (cost):\n",
        "  tax=0.18*cost\n",
        "  net_price= cost +tax\n",
        "  return net_price\n",
        "\n",
        "def rect(len,b):\n",
        "  area_rect = len*b\n",
        "  return(area_rect)\n"
      ],
      "metadata": {
        "id": "kY1QFaRU9uvK"
      },
      "execution_count": null,
      "outputs": []
    },
    {
      "cell_type": "code",
      "source": [
        "print(\"Enter the Value of the cylindrical part in meters\")\n",
        "h = float(input(\"Enter the height : \"))\n",
        "r = float(input(\"Enter the Radius\"))\n",
        "csa_cyl = cyl(h,r)\n",
        "\n",
        "l = float(input(\"Enter the Slang : \"))\n",
        "csa_con = con(l,r)\n",
        "canvas_area = csa_cyl + csa_con\n",
        "print(\"Area of the canvas = \",canvas_area, \"m^2\")\n",
        "\n",
        "unit_price=float(input(\"Enter the unit Price : \"))\n",
        "total_cost = unit_price*canvas_area\n",
        "\n",
        "print(\"The Total cost of the canvas before taxes is  \" , total_cost)\n",
        "print(\"The final Price after taxes is \", net(total_cost))"
      ],
      "metadata": {
        "colab": {
          "base_uri": "https://localhost:8080/"
        },
        "id": "G0z3SotFCSij",
        "outputId": "a54dd55b-c66c-46d9-a5fd-c34a76d297d0"
      },
      "execution_count": null,
      "outputs": [
        {
          "output_type": "stream",
          "name": "stdout",
          "text": [
            "Enter the Value of the cylindrical part in meters\n",
            "Enter the height : 5\n",
            "Enter the Radius6\n",
            "Enter the Slang : 8\n",
            "Area of the canvas =  339.12 m^2\n",
            "Enter the unit Price : 5\n",
            "The Total cost of the canvas before taxes is   1695.6\n",
            "The final Price after taxes is  2000.808\n"
          ]
        }
      ]
    },
    {
      "cell_type": "code",
      "source": [
        "print(\"Enter the Value of the recktangular Shape : \")\n",
        "\n",
        "len=float(input(\"Enter the length : \"))\n",
        "b = float(input(\"Enter the width value : \"))\n",
        "reck_area = rect(len,b)\n",
        "\n",
        "l = float(input(\"Enter the the Slang of the upper Shape : \"))\n",
        "r = float(input(\"Enter the radius : \"))\n",
        "con_ar = con(l,r)\n",
        "Body_area = reck_area + con_ar\n",
        "print(\"The total Area is : \", Body_area, \"m^2\")\n",
        "\n",
        "unit_price=float(input(\"Enter the unit Price : \"))\n",
        "toal_cost = unit_price*Body_area\n",
        "\n",
        "print(\"The total cost before Taxes is : \", total_cost)\n",
        "print(\"The final Price after Taxes is : \" ,net(total_cost))\n"
      ],
      "metadata": {
        "colab": {
          "base_uri": "https://localhost:8080/"
        },
        "id": "c4LhWMjVG-QQ",
        "outputId": "c6b78885-eff9-4ce4-ffa9-e4f46be2c627"
      },
      "execution_count": null,
      "outputs": [
        {
          "output_type": "stream",
          "name": "stdout",
          "text": [
            "Enter the Value of the recktangular Shape : \n",
            "Enter the length : 19\n",
            "Enter the width value : 14\n",
            "Enter the the Slang of the upper Shape : 12\n",
            "Enter the radius : 6\n",
            "The total Area is :  492.08 m^2\n",
            "Enter the unit Price : 25\n",
            "The total cost before Taxes is :  1695.6\n",
            "The final Price after Taxes is :  2000.808\n"
          ]
        }
      ]
    },
    {
      "cell_type": "code",
      "source": [
        "def incrvalue(num):\n",
        "  print(\"Parameter num has value : \", num, \"\\nid = \" , id(num))\n",
        "  num = num+5\n",
        "  print(\"num increment by 5 is \", num , \"\\n Now id is \", id(num))"
      ],
      "metadata": {
        "id": "-vILTPwKKdaH"
      },
      "execution_count": null,
      "outputs": []
    },
    {
      "cell_type": "code",
      "source": [
        "number = int(input(\"Enter a number :\"))\n",
        "print(\"id of the argument number is : \", id(number))\n",
        "incrvalue(number)"
      ],
      "metadata": {
        "colab": {
          "base_uri": "https://localhost:8080/"
        },
        "id": "p5_U6vnJMYbB",
        "outputId": "d1f585eb-5e74-42a3-a489-cb951d96fc0a"
      },
      "execution_count": null,
      "outputs": [
        {
          "output_type": "stream",
          "name": "stdout",
          "text": [
            "Enter a number :8\n",
            "id of the argument number is :  138764323701200\n",
            "Parameter num has value :  8 \n",
            "id =  138764323701200\n",
            "num increment by 5 is  13 \n",
            " Now id is  138764323701360\n"
          ]
        }
      ]
    },
    {
      "cell_type": "code",
      "source": [
        "id(1)"
      ],
      "metadata": {
        "colab": {
          "base_uri": "https://localhost:8080/"
        },
        "id": "Mhtfp3yCMrJp",
        "outputId": "3bfb5b9a-d205-4c3a-d524-cd14804dd726"
      },
      "execution_count": null,
      "outputs": [
        {
          "output_type": "execute_result",
          "data": {
            "text/plain": [
              "133236553842928"
            ]
          },
          "metadata": {},
          "execution_count": 40
        }
      ]
    },
    {
      "cell_type": "code",
      "source": [
        "float(1/2)"
      ],
      "metadata": {
        "colab": {
          "base_uri": "https://localhost:8080/"
        },
        "id": "1w1yesouMt3P",
        "outputId": "b077f1f2-e6e3-4b67-aa9a-585d62116acb"
      },
      "execution_count": null,
      "outputs": [
        {
          "output_type": "execute_result",
          "data": {
            "text/plain": [
              "0.5"
            ]
          },
          "metadata": {},
          "execution_count": 41
        }
      ]
    },
    {
      "cell_type": "code",
      "source": [
        "def incrvalue(num):\n",
        "  print(\"parameter num has value : \", num, \"\\nid = \",id(num))\n",
        "  num=num+5\n",
        "  print(\"num is increment by 5 is \", num , \"\\n Now id is \", id(num))"
      ],
      "metadata": {
        "id": "N8uaIODmN2sP"
      },
      "execution_count": null,
      "outputs": []
    },
    {
      "cell_type": "code",
      "source": [
        "number= int(input(\"Enter any number\"))\n",
        "print(\"id of argument number is : \", id(number))\n",
        "incrvalue(number)"
      ],
      "metadata": {
        "colab": {
          "base_uri": "https://localhost:8080/"
        },
        "id": "Jssu3FsjJbBJ",
        "outputId": "d9828f97-b165-4105-b0a8-e1bc7c3e27cf"
      },
      "execution_count": null,
      "outputs": [
        {
          "output_type": "stream",
          "name": "stdout",
          "text": [
            "Enter any number8\n",
            "id of argument number is :  138764323701200\n",
            "parameter num has value :  8 \n",
            "id =  138764323701200\n",
            "num is increment by 5 is  13 \n",
            " Now id is  138764323701360\n"
          ]
        }
      ]
    },
    {
      "cell_type": "code",
      "source": [
        "# Mixed Fraction\n",
        "'''\n",
        "Write a programm that accepts numerator and dominator of a fractional number and calls a user defined function mixedfraction() when\n",
        "the fraction formed is not a proper fraction. The default value of denominator is 1.\n",
        "The function displays a mixed fraction only if the fraction formed by the parameters does not evaluate to a whole number\n",
        "\n",
        "'''\n",
        "\n"
      ],
      "metadata": {
        "colab": {
          "base_uri": "https://localhost:8080/",
          "height": 87
        },
        "id": "3VdZsifhJtTA",
        "outputId": "4869cc69-0121-48f8-d2c7-a5bb7cd0a586"
      },
      "execution_count": null,
      "outputs": [
        {
          "output_type": "execute_result",
          "data": {
            "text/plain": [
              "'\\nWrite a programm that accepts numerator and dominator of a fractional number and calls a user defined function mixedfraction() when\\nthe fraction formed is not a proper fraction. The default value of denominator is 1.\\nThe function displays a mixed fraction only if the fraction formed by the parameters does not evaluate to a whole number \\n\\n'"
            ],
            "application/vnd.google.colaboratory.intrinsic+json": {
              "type": "string"
            }
          },
          "metadata": {},
          "execution_count": 5
        }
      ]
    },
    {
      "cell_type": "code",
      "source": [
        "from pickle import decode_long\n",
        "def mixedfract(num,deno =1):\n",
        "  reminder = num%deno\n",
        "  if reminder !=0 :\n",
        "    qoutient = int(num/deno)\n",
        "    print(\"The mixed Fraction = \", qoutient, \"(\", reminder ,\"/\", deno ,\")\")\n",
        "  else:\n",
        "      print(\"The given fraction evaluates to a whole number\")"
      ],
      "metadata": {
        "id": "noSdL_-gMDGh"
      },
      "execution_count": null,
      "outputs": []
    },
    {
      "cell_type": "code",
      "source": [
        "num = int(input(\"Enter the numerator: \"))\n",
        "deno = int(input(\"Enter the Dominator: \"))\n",
        "print(\"You enterd : \", num , \"/\", deno)\n",
        "if num > deno :\n",
        "  mixedfract(num,deno)\n",
        "else:\n",
        "  print(\"it is a proper fraction :\")"
      ],
      "metadata": {
        "colab": {
          "base_uri": "https://localhost:8080/"
        },
        "id": "vVzS8ztTM4_Y",
        "outputId": "c2eeed72-001a-4837-9852-269a6f674ab6"
      },
      "execution_count": null,
      "outputs": [
        {
          "output_type": "stream",
          "name": "stdout",
          "text": [
            "Enter the numerator: 8\n",
            "Enter the Dominator: 3\n",
            "You enterd :  8 / 3\n",
            "The mixed Fraction =  2 ( 2 / 3 )\n"
          ]
        }
      ]
    },
    {
      "cell_type": "code",
      "source": [
        "helloPythen() #Function Call\n",
        "def helloPython(): #Function definition\n",
        " print(\"I love Programming \")"
      ],
      "metadata": {
        "colab": {
          "base_uri": "https://localhost:8080/",
          "height": 211
        },
        "id": "drsblP49NY3f",
        "outputId": "6e03c420-a197-4a39-d927-61fbbd614d59"
      },
      "execution_count": null,
      "outputs": [
        {
          "output_type": "error",
          "ename": "NameError",
          "evalue": "ignored",
          "traceback": [
            "\u001b[0;31m---------------------------------------------------------------------------\u001b[0m",
            "\u001b[0;31mNameError\u001b[0m                                 Traceback (most recent call last)",
            "\u001b[0;32m<ipython-input-15-9086426646a9>\u001b[0m in \u001b[0;36m<cell line: 1>\u001b[0;34m()\u001b[0m\n\u001b[0;32m----> 1\u001b[0;31m \u001b[0mhelloPythen\u001b[0m\u001b[0;34m(\u001b[0m\u001b[0;34m)\u001b[0m \u001b[0;31m#Function Call\u001b[0m\u001b[0;34m\u001b[0m\u001b[0;34m\u001b[0m\u001b[0m\n\u001b[0m\u001b[1;32m      2\u001b[0m \u001b[0;32mdef\u001b[0m \u001b[0mhelloPython\u001b[0m\u001b[0;34m(\u001b[0m\u001b[0;34m)\u001b[0m\u001b[0;34m:\u001b[0m \u001b[0;31m#Function definition\u001b[0m\u001b[0;34m\u001b[0m\u001b[0;34m\u001b[0m\u001b[0m\n\u001b[1;32m      3\u001b[0m  \u001b[0mprint\u001b[0m\u001b[0;34m(\u001b[0m\u001b[0;34m\"I love Programming \"\u001b[0m\u001b[0;34m)\u001b[0m\u001b[0;34m\u001b[0m\u001b[0;34m\u001b[0m\u001b[0m\n",
            "\u001b[0;31mNameError\u001b[0m: name 'helloPythen' is not defined"
          ]
        }
      ]
    },
    {
      "cell_type": "code",
      "source": [
        "num = 5\n",
        "def  myfunc():\n",
        "  y = num + 5\n",
        "  print(\"accessing num -> (global) in myfunc , value= \", num )\n",
        "  print(\"accesing y -> (local variable of myfunc) , value= \",y)"
      ],
      "metadata": {
        "id": "Hd6euWKCPyjB"
      },
      "execution_count": null,
      "outputs": []
    },
    {
      "cell_type": "code",
      "source": [
        "myfunc()"
      ],
      "metadata": {
        "colab": {
          "base_uri": "https://localhost:8080/"
        },
        "id": "Tv5txHPCRl1_",
        "outputId": "c0600314-b813-4ab8-a1d2-15ba25fdfe5a"
      },
      "execution_count": null,
      "outputs": [
        {
          "output_type": "stream",
          "name": "stdout",
          "text": [
            "accessing num -> (global) in myfunc , value=  5\n",
            "accesing y -> (local variable of myfunc) , value=  10\n"
          ]
        }
      ]
    },
    {
      "cell_type": "code",
      "source": [
        "print(\"Accesing num -> (global) outside myfunc \", num )\n"
      ],
      "metadata": {
        "colab": {
          "base_uri": "https://localhost:8080/"
        },
        "id": "Bk0U3Z2XRphW",
        "outputId": "d1a8ef03-f9a2-4175-8a3b-7a6457af6fff"
      },
      "execution_count": null,
      "outputs": [
        {
          "output_type": "stream",
          "name": "stdout",
          "text": [
            "Accesing num -> (global) outside myfunc  5\n"
          ]
        }
      ]
    },
    {
      "cell_type": "code",
      "source": [
        "# y not definded because its a local variable\n",
        "print(\"Accessing y -> (local variable ) \", y)"
      ],
      "metadata": {
        "colab": {
          "base_uri": "https://localhost:8080/",
          "height": 193
        },
        "id": "IGL0GbqjR6dH",
        "outputId": "a18e9540-f0fd-4e9c-9aa7-616c4d5f82ec"
      },
      "execution_count": null,
      "outputs": [
        {
          "output_type": "error",
          "ename": "NameError",
          "evalue": "ignored",
          "traceback": [
            "\u001b[0;31m---------------------------------------------------------------------------\u001b[0m",
            "\u001b[0;31mNameError\u001b[0m                                 Traceback (most recent call last)",
            "\u001b[0;32m<ipython-input-20-fcb745a57a63>\u001b[0m in \u001b[0;36m<cell line: 2>\u001b[0;34m()\u001b[0m\n\u001b[1;32m      1\u001b[0m \u001b[0;31m# y not definded because its a local variable\u001b[0m\u001b[0;34m\u001b[0m\u001b[0;34m\u001b[0m\u001b[0m\n\u001b[0;32m----> 2\u001b[0;31m \u001b[0mprint\u001b[0m\u001b[0;34m(\u001b[0m\u001b[0;34m\"Accessing y -> (local variable ) \"\u001b[0m\u001b[0;34m,\u001b[0m \u001b[0my\u001b[0m\u001b[0;34m)\u001b[0m\u001b[0;34m\u001b[0m\u001b[0;34m\u001b[0m\u001b[0m\n\u001b[0m",
            "\u001b[0;31mNameError\u001b[0m: name 'y' is not defined"
          ]
        }
      ]
    },
    {
      "cell_type": "code",
      "source": [
        "num = 5\n",
        "def myfunc1():\n",
        "  #prefixing global informs python to use the updated global variable num outside the fun\n",
        "  global num\n",
        "  print(\"Accessing num = \",num)\n",
        "  num = 10\n",
        "  print(\"num reassigned = \" ,num)\n"
      ],
      "metadata": {
        "id": "crgPwW8fSDkG"
      },
      "execution_count": null,
      "outputs": []
    },
    {
      "cell_type": "code",
      "source": [
        "myfunc1()"
      ],
      "metadata": {
        "colab": {
          "base_uri": "https://localhost:8080/"
        },
        "id": "F-SkVMFsTkCe",
        "outputId": "3651bd52-44f2-42eb-e8a9-ade5dcdc5ebe"
      },
      "execution_count": null,
      "outputs": [
        {
          "output_type": "stream",
          "name": "stdout",
          "text": [
            "Accessing num =  5\n",
            "num reassigned =  10\n"
          ]
        }
      ]
    },
    {
      "cell_type": "code",
      "source": [
        "#map() function\n",
        "tup = (5,7,22,97,54)\n",
        "newtup = tuple(map(lambda x : x+3 , tup))\n",
        "print(newtup)"
      ],
      "metadata": {
        "colab": {
          "base_uri": "https://localhost:8080/"
        },
        "id": "hTf5ib0nTllW",
        "outputId": "400a75df-a2d0-4884-a431-b9062a76a588"
      },
      "execution_count": null,
      "outputs": [
        {
          "output_type": "stream",
          "name": "stdout",
          "text": [
            "(8, 10, 25, 100, 57)\n"
          ]
        }
      ]
    },
    {
      "cell_type": "code",
      "source": [
        "tup =(1, 2, 3, 4, 5)\n",
        "cube= tuple(map(lambda x:x**3 , tup))\n",
        "print(cube)"
      ],
      "metadata": {
        "colab": {
          "base_uri": "https://localhost:8080/"
        },
        "id": "G9EKGZxmYisd",
        "outputId": "a5249c76-889e-4445-adbf-c2f1d42d7f8e"
      },
      "execution_count": null,
      "outputs": [
        {
          "output_type": "stream",
          "name": "stdout",
          "text": [
            "(1, 8, 27, 64, 125)\n"
          ]
        }
      ]
    },
    {
      "cell_type": "code",
      "source": [
        "# filter(function, iterable)\n",
        "\n",
        "def func(x):\n",
        "  if x>=3 :\n",
        "    return x\n",
        "y = filter(func, (1,2,3,4))\n",
        "print(y)\n",
        "print(list(y))"
      ],
      "metadata": {
        "colab": {
          "base_uri": "https://localhost:8080/"
        },
        "id": "JB0UuyE9ZJsd",
        "outputId": "245fb819-071b-4002-c524-d7dbd17bff9d"
      },
      "execution_count": null,
      "outputs": [
        {
          "output_type": "stream",
          "name": "stdout",
          "text": [
            "<filter object at 0x7e3457b8eda0>\n",
            "[3, 4]\n"
          ]
        }
      ]
    },
    {
      "cell_type": "code",
      "source": [
        "y = filter(lambda x:(x>3) , (1,2,3,4,5))\n",
        "print(list(y))"
      ],
      "metadata": {
        "colab": {
          "base_uri": "https://localhost:8080/"
        },
        "id": "YJwrwwenabVu",
        "outputId": "9ef0049a-f460-4241-fdad-92bc176fe72f"
      },
      "execution_count": null,
      "outputs": [
        {
          "output_type": "stream",
          "name": "stdout",
          "text": [
            "[4, 5]\n"
          ]
        }
      ]
    },
    {
      "cell_type": "code",
      "source": [
        "# reduce(func, iterable)\n",
        "from functools import reduce"
      ],
      "metadata": {
        "id": "_yXNe-Xda4S2"
      },
      "execution_count": null,
      "outputs": []
    },
    {
      "cell_type": "code",
      "source": [
        "z = reduce(lambda a,b : a+b , [23,21,45,98])"
      ],
      "metadata": {
        "id": "ejzAaP8dbQ-9"
      },
      "execution_count": null,
      "outputs": []
    },
    {
      "cell_type": "code",
      "source": [
        "z"
      ],
      "metadata": {
        "colab": {
          "base_uri": "https://localhost:8080/"
        },
        "id": "S0IbU7sgbY09",
        "outputId": "fd0d58cb-b604-4b7f-c6f3-334a61c97867"
      },
      "execution_count": null,
      "outputs": [
        {
          "output_type": "execute_result",
          "data": {
            "text/plain": [
              "187"
            ]
          },
          "metadata": {},
          "execution_count": 44
        }
      ]
    },
    {
      "cell_type": "code",
      "source": [
        "#flatten\n",
        "nestedlist = [[1,2,3,4], [\"a\",\"b\",\"c\"], [1.1, 1.0E1, 1+2j]]\n",
        "flatlist = []\n",
        "for sub in nestedlist :\n",
        "  for elements in sub :\n",
        "    flatlist.append(elements)\n",
        "print(flatlist)"
      ],
      "metadata": {
        "colab": {
          "base_uri": "https://localhost:8080/"
        },
        "id": "9yJ3y3yUbaFV",
        "outputId": "91b34a90-5ce5-4dbd-a12d-277cbcf2fc7c"
      },
      "execution_count": null,
      "outputs": [
        {
          "output_type": "stream",
          "name": "stdout",
          "text": [
            "[1, 2, 3, 4, 'a', 'b', 'c', 1.1, 10.0, (1+2j)]\n"
          ]
        }
      ]
    },
    {
      "cell_type": "code",
      "source": [
        "from operator import concat\n",
        "flatlist = reduce(concat , nestedlist)\n",
        "print(flatlist)"
      ],
      "metadata": {
        "colab": {
          "base_uri": "https://localhost:8080/"
        },
        "id": "v1S1_5xxdtYG",
        "outputId": "866c9634-8d12-4e16-a361-60f1d7b8609c"
      },
      "execution_count": null,
      "outputs": [
        {
          "output_type": "stream",
          "name": "stdout",
          "text": [
            "[1, 2, 3, 4, 'a', 'b', 'c', 1.1, 10.0, (1+2j)]\n"
          ]
        }
      ]
    },
    {
      "cell_type": "code",
      "source": [
        "flatlis = [j for i in nestedlist for j in i  ]"
      ],
      "metadata": {
        "id": "OyPxhK2-eJeN"
      },
      "execution_count": null,
      "outputs": []
    },
    {
      "cell_type": "code",
      "source": [
        "flatlis"
      ],
      "metadata": {
        "colab": {
          "base_uri": "https://localhost:8080/"
        },
        "id": "jzJdb1M1ez4V",
        "outputId": "c1d81019-83b4-4e8a-e936-ef26ade24f6d"
      },
      "execution_count": null,
      "outputs": [
        {
          "output_type": "execute_result",
          "data": {
            "text/plain": [
              "[1, 2, 3, 4, 'a', 'b', 'c', 1.1, 10.0, (1+2j)]"
            ]
          },
          "metadata": {},
          "execution_count": 53
        }
      ]
    },
    {
      "cell_type": "code",
      "source": [
        "d1 = {\"A1\":20 , \"B1\":25, \"C1\":40 , \"D1\":50}\n",
        "d2= {\"X1\":100, \"Y1\":200, \"b1\":25, \"A1\":22, \"D1\":\"Hello\"}\n",
        "d3={**d1, **d2}"
      ],
      "metadata": {
        "id": "tn1Jg6NCe1WV"
      },
      "execution_count": null,
      "outputs": []
    },
    {
      "cell_type": "code",
      "source": [
        "print(d3)"
      ],
      "metadata": {
        "colab": {
          "base_uri": "https://localhost:8080/"
        },
        "id": "5it8sYyqi9d1",
        "outputId": "729efebd-4485-4596-9711-5f4929fc85f4"
      },
      "execution_count": null,
      "outputs": [
        {
          "output_type": "stream",
          "name": "stdout",
          "text": [
            "{'A1': 22, 'B1': 25, 'C1': 40, 'D1': 'Hello', 'X1': 100, 'Y1': 200, 'b1': 25}\n"
          ]
        }
      ]
    },
    {
      "cell_type": "code",
      "source": [
        "def isdivisible(n):\n",
        "  temp = n\n",
        "\n",
        "  #check if any of digit divides n\n",
        "  while n :\n",
        "    k = n%10\n",
        "\n",
        "    #check if k divides N\n",
        "    if temp % k == 0:\n",
        "      return \"Yes\"\n",
        "\n",
        "    n /= 10 ;\n",
        "\n",
        "  # Number is not divisible by\n",
        "  #any of digits\n",
        "  return \"No\"\n",
        "\n",
        "# Driver Code\n",
        "n = 9876543\n",
        "print(isdivisible(n))"
      ],
      "metadata": {
        "id": "DCDkLp-SjHEW",
        "colab": {
          "base_uri": "https://localhost:8080/"
        },
        "outputId": "675b3091-42ae-49a4-b3dc-40e924f36d84"
      },
      "execution_count": 3,
      "outputs": [
        {
          "output_type": "stream",
          "name": "stdout",
          "text": [
            "Yes\n"
          ]
        }
      ]
    },
    {
      "cell_type": "code",
      "source": [],
      "metadata": {
        "id": "4IuP_pkZLoce"
      },
      "execution_count": null,
      "outputs": []
    }
  ]
}